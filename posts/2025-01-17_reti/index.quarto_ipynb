{
 "cells": [
  {
   "cell_type": "markdown",
   "id": "cae99cb9",
   "metadata": {},
   "source": [
    "---\n",
    "title: \"I contratti di rete\"\n",
    "subtitle: \"_prova_ \"\n",
    "draft: true\n",
    "\n",
    "date: 2025-01-17\n",
    "created: 2025-01-17\n",
    "updated: 2025-01-17\n",
    "lang: it\n",
    "tags:\n",
    "    - PMI\n",
    "    - Python\n",
    "\n",
    "author: \"Paolo Volterra\"\n",
    "\n",
    "format:\n",
    "  html:\n",
    "    toc: true             # Abilita il sommario\n",
    "    toc-depth: 3          # Mostra fino al terzo livello di intestazioni\n",
    "    number-sections: true # Aggiunge numeri alle sezioni e sottosezioni\n",
    "    toc-location: right   # Posiziona il sommario a sinistra (o usa `right` per destra)\n",
    "    toc-title: \"Indice\"   # (Facoltativo) Titolo del sommario\n",
    "    \n",
    "    code-fold: true  # Permette di piegare il codice (opzionale)\n",
    "\n",
    "categories:\n",
    "  - PDF\n",
    "  - AI\n",
    "  - Python\n",
    "\n",
    "jupyter: \"python3\"\n",
    "execute:\n",
    "  echo: true        # Mostra il codice nei blocchi\n",
    "  eval: false       # Non esegue il codice\n",
    "\n",
    "# 1. quarto preview d:/paolovolterra.github.io/posts/2508_RNA/RNA.qmd\n",
    "# 2. quarto render d:/paolovolterra.github.io/posts/2508_RNA/RNA.qmd\n",
    "# 3. git add d:/paolovolterra.github.io/docs/posts/2508_RNA/RNA.html\n",
    "# 4. git status\n",
    "# 5. git add . (se hai rilevato altre modifiche e le voi introitare)\n",
    "# 6. git commit -m \"Aggiornata la pagina: RNA\"\n",
    "# 7. git pull origin main --rebase\n",
    "# 8. git push origin main\n",
    "# 9. git log\n",
    "---\n",
    "\n",
    "# [Contratti di Rete](https://www.registroimprese.it/contratti-di-rete)\n",
    "![](https://www.registroimprese.it/RegistroImprese-theme/images/ri-logo.jpg)\n"
   ]
  },
  {
   "cell_type": "code",
   "execution_count": 1,
   "id": "37e4726e",
   "metadata": {},
   "outputs": [],
   "source": [
    "import pandas as pd\n",
    "import os\n",
    "os.chdir('D:\\\\Zotero\\\\storage\\\\67U4AHBK')\n",
    "elenco = pd.read_excel('statistiche.xls', sheet_name='Elenco', dtype='object', parse_dates=['data atto'])\n",
    "elenco['data atto'] = pd.to_datetime(elenco['data atto'], format='%Y/%m/%d')\n",
    "elenco.head()"
   ]
  }
 ],
 "metadata": {
  "kernelspec": {
   "display_name": "Python 3 (ipykernel)",
   "language": "python",
   "name": "python3",
   "path": "C:\\Users\\paolo\\AppData\\Local\\Programs\\Python\\Python311\\share\\jupyter\\kernels\\python3"
  },
  "language_info": {
   "codemirror_mode": {
    "name": "ipython",
    "version": 3
   },
   "file_extension": ".py",
   "mimetype": "text/x-python",
   "name": "python",
   "nbconvert_exporter": "python",
   "pygments_lexer": "ipython3",
   "version": "3.11.7"
  }
 },
 "nbformat": 4,
 "nbformat_minor": 5
}
