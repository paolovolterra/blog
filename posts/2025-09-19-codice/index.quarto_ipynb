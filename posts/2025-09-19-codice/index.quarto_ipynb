{
  "cells": [
    {
      "cell_type": "markdown",
      "metadata": {},
      "source": [
        "---\n",
        "title: \"Primo grafico con codice\"\n",
        "date: 2025-09-19\n",
        "categories: [python, grafici]\n",
        "description: \"Esempio di post con tabella e grafico Python generati automaticamente.\"\n",
        "draft: false\n",
        "---\n",
        "\n",
        "In questo post mostro come Quarto può eseguire codice Python e visualizzare un grafico direttamente dentro la pagina."
      ],
      "id": "8aba99d4"
    },
    {
      "cell_type": "code",
      "metadata": {},
      "source": [
        "#| echo: true\n",
        "#| fig-cap: \"Un semplice grafico di prova\"\n",
        "\n",
        "import matplotlib.pyplot as plt\n",
        "import pandas as pd\n",
        "\n",
        "# dati fittizi\n",
        "data = pd.DataFrame({\n",
        "    \"Mese\": [\"Gen\", \"Feb\", \"Mar\", \"Apr\"],\n",
        "    \"Valore\": [10, 15, 7, 12]\n",
        "})\n",
        "\n",
        "plt.plot(data[\"Mese\"], data[\"Valore\"], marker=\"o\")\n",
        "plt.title(\"Valori di esempio\")\n",
        "plt.xlabel(\"Mese\")\n",
        "plt.ylabel(\"Valore\")\n",
        "plt.grid(True)\n",
        "plt.show()"
      ],
      "id": "a0060a3a",
      "execution_count": null,
      "outputs": []
    }
  ],
  "metadata": {
    "kernelspec": {
      "name": "python3",
      "language": "python",
      "display_name": "Python 3 (ipykernel)",
      "path": "C:\\Users\\paolo\\AppData\\Local\\Programs\\Python\\Python311\\share\\jupyter\\kernels\\python3"
    }
  },
  "nbformat": 4,
  "nbformat_minor": 5
}